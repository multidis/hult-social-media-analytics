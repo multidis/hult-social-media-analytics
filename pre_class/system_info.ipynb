{
 "cells": [
  {
   "cell_type": "code",
   "execution_count": 1,
   "id": "af6adfe5",
   "metadata": {},
   "outputs": [],
   "source": [
    "## System information and selected package version.\n",
    "import sys\n",
    "import platform\n",
    "import uuid\n",
    "import pandas as pd"
   ]
  },
  {
   "cell_type": "code",
   "execution_count": 2,
   "id": "8c71b0d1",
   "metadata": {},
   "outputs": [
    {
     "name": "stdout",
     "output_type": "stream",
     "text": [
      "My operating system is Linux\n",
      "('64bit', 'ELF')\n"
     ]
    }
   ],
   "source": [
    "print(f\"My operating system is {platform.system()}\")\n",
    "print(platform.architecture())"
   ]
  },
  {
   "cell_type": "code",
   "execution_count": 3,
   "id": "c7590a7f",
   "metadata": {},
   "outputs": [
    {
     "name": "stdout",
     "output_type": "stream",
     "text": [
      "My CPU is x86_64\n"
     ]
    }
   ],
   "source": [
    "print(f\"My CPU is {platform.processor()}\")"
   ]
  },
  {
   "cell_type": "code",
   "execution_count": 4,
   "id": "d3950f46",
   "metadata": {},
   "outputs": [
    {
     "name": "stdout",
     "output_type": "stream",
     "text": [
      "Python version:\n",
      "3.9.12 (main, Jun  1 2022, 11:38:51) \n",
      "[GCC 7.5.0]\n"
     ]
    }
   ],
   "source": [
    "print(f\"Python version:\")\n",
    "print(sys.version)"
   ]
  },
  {
   "cell_type": "code",
   "execution_count": 5,
   "id": "7fc345c1",
   "metadata": {},
   "outputs": [
    {
     "name": "stdout",
     "output_type": "stream",
     "text": [
      "pandas version is 1.4.2\n"
     ]
    }
   ],
   "source": [
    "print(f\"pandas version is {pd.__version__}\")"
   ]
  },
  {
   "cell_type": "code",
   "execution_count": 6,
   "id": "3186fbbc",
   "metadata": {},
   "outputs": [
    {
     "name": "stdout",
     "output_type": "stream",
     "text": [
      "Finally, something unique:\n",
      "35fc8310-3751-420b-93d2-f7ceb5d70874\n"
     ]
    }
   ],
   "source": [
    "print(\"Finally, something unique:\")\n",
    "print(uuid.uuid4())"
   ]
  },
  {
   "cell_type": "code",
   "execution_count": 7,
   "id": "2a6857f2",
   "metadata": {},
   "outputs": [
    {
     "name": "stdout",
     "output_type": "stream",
     "text": [
      "If no errors/warnings, I am good to go with my Python setup. See you in class.\n"
     ]
    }
   ],
   "source": [
    "print(\"If no errors/warnings, I am good to go with my Python setup. See you in class.\")"
   ]
  }
 ],
 "metadata": {
  "kernelspec": {
   "display_name": "Python [conda env:socmedia2022] *",
   "language": "python",
   "name": "conda-env-socmedia2022-py"
  },
  "language_info": {
   "codemirror_mode": {
    "name": "ipython",
    "version": 3
   },
   "file_extension": ".py",
   "mimetype": "text/x-python",
   "name": "python",
   "nbconvert_exporter": "python",
   "pygments_lexer": "ipython3",
   "version": "3.9.12"
  }
 },
 "nbformat": 4,
 "nbformat_minor": 5
}
