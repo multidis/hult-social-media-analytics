{
 "cells": [
  {
   "cell_type": "code",
   "execution_count": 1,
   "id": "833af0d4",
   "metadata": {},
   "outputs": [],
   "source": [
    "# Github trends analysis starter\n",
    "import requests\n",
    "import html\n",
    "import string\n",
    "import re\n",
    "import nltk\n",
    "from nltk import word_tokenize\n",
    "from nltk.corpus import stopwords\n",
    "from nltk.collocations import *\n",
    "import pandas as pd\n",
    "import matplotlib.pyplot as plt"
   ]
  },
  {
   "cell_type": "code",
   "execution_count": 2,
   "id": "1ef55fc8",
   "metadata": {},
   "outputs": [],
   "source": [
    "# Github search API\n",
    "# https://docs.github.com/en/rest/reference/search#search-repositories\n",
    "github_url = 'https://api.github.com/search/repositories'"
   ]
  },
  {
   "cell_type": "code",
   "execution_count": 3,
   "id": "ac09ffcd",
   "metadata": {},
   "outputs": [],
   "source": [
    "# construct search query\n",
    "q = 'marketing created:2020-01-01..2021-06-01'\n",
    "\n",
    "# MODIFY the query: add keywords of your interest, for example\n",
    "#q = '\"business analytics\" created:2020-01-01..2021-06-01'"
   ]
  },
  {
   "cell_type": "code",
   "execution_count": 4,
   "id": "38c1b998",
   "metadata": {},
   "outputs": [],
   "source": [
    "# request parameters\n",
    "qparams = {'q' : q, 'sort' : 'stars', 'order': 'desc', 'per_page' : 100}"
   ]
  },
  {
   "cell_type": "code",
   "execution_count": 5,
   "id": "8b06dad2",
   "metadata": {},
   "outputs": [
    {
     "data": {
      "text/plain": [
       "<Response [200]>"
      ]
     },
     "execution_count": 5,
     "metadata": {},
     "output_type": "execute_result"
    }
   ],
   "source": [
    "# review class session on working with APIs\n",
    "r = requests.get(url=github_url, params=qparams)\n",
    "r"
   ]
  },
  {
   "cell_type": "code",
   "execution_count": 6,
   "id": "1d8ddf66",
   "metadata": {},
   "outputs": [
    {
     "data": {
      "text/plain": [
       "dict_keys(['total_count', 'incomplete_results', 'items'])"
      ]
     },
     "execution_count": 6,
     "metadata": {},
     "output_type": "execute_result"
    }
   ],
   "source": [
    "res = r.json()\n",
    "res.keys()"
   ]
  },
  {
   "cell_type": "code",
   "execution_count": 7,
   "id": "1aea59e3",
   "metadata": {},
   "outputs": [
    {
     "data": {
      "text/plain": [
       "100"
      ]
     },
     "execution_count": 7,
     "metadata": {},
     "output_type": "execute_result"
    }
   ],
   "source": [
    "# items returned in the response (first page)\n",
    "len(res['items'])"
   ]
  },
  {
   "cell_type": "code",
   "execution_count": 8,
   "id": "aeb06973",
   "metadata": {},
   "outputs": [
    {
     "data": {
      "text/plain": [
       "{'id': 269325451,\n",
       " 'node_id': 'MDEwOlJlcG9zaXRvcnkyNjkzMjU0NTE=',\n",
       " 'name': 'sendportal',\n",
       " 'full_name': 'mettle/sendportal',\n",
       " 'private': False,\n",
       " 'owner': {'login': 'mettle',\n",
       "  'id': 1176340,\n",
       "  'node_id': 'MDEyOk9yZ2FuaXphdGlvbjExNzYzNDA=',\n",
       "  'avatar_url': 'https://avatars.githubusercontent.com/u/1176340?v=4',\n",
       "  'gravatar_id': '',\n",
       "  'url': 'https://api.github.com/users/mettle',\n",
       "  'html_url': 'https://github.com/mettle',\n",
       "  'followers_url': 'https://api.github.com/users/mettle/followers',\n",
       "  'following_url': 'https://api.github.com/users/mettle/following{/other_user}',\n",
       "  'gists_url': 'https://api.github.com/users/mettle/gists{/gist_id}',\n",
       "  'starred_url': 'https://api.github.com/users/mettle/starred{/owner}{/repo}',\n",
       "  'subscriptions_url': 'https://api.github.com/users/mettle/subscriptions',\n",
       "  'organizations_url': 'https://api.github.com/users/mettle/orgs',\n",
       "  'repos_url': 'https://api.github.com/users/mettle/repos',\n",
       "  'events_url': 'https://api.github.com/users/mettle/events{/privacy}',\n",
       "  'received_events_url': 'https://api.github.com/users/mettle/received_events',\n",
       "  'type': 'Organization',\n",
       "  'site_admin': False},\n",
       " 'html_url': 'https://github.com/mettle/sendportal',\n",
       " 'description': 'Open-source self-hosted email marketing. Manage your own newsletters at a fraction of the cost. ',\n",
       " 'fork': False,\n",
       " 'url': 'https://api.github.com/repos/mettle/sendportal',\n",
       " 'forks_url': 'https://api.github.com/repos/mettle/sendportal/forks',\n",
       " 'keys_url': 'https://api.github.com/repos/mettle/sendportal/keys{/key_id}',\n",
       " 'collaborators_url': 'https://api.github.com/repos/mettle/sendportal/collaborators{/collaborator}',\n",
       " 'teams_url': 'https://api.github.com/repos/mettle/sendportal/teams',\n",
       " 'hooks_url': 'https://api.github.com/repos/mettle/sendportal/hooks',\n",
       " 'issue_events_url': 'https://api.github.com/repos/mettle/sendportal/issues/events{/number}',\n",
       " 'events_url': 'https://api.github.com/repos/mettle/sendportal/events',\n",
       " 'assignees_url': 'https://api.github.com/repos/mettle/sendportal/assignees{/user}',\n",
       " 'branches_url': 'https://api.github.com/repos/mettle/sendportal/branches{/branch}',\n",
       " 'tags_url': 'https://api.github.com/repos/mettle/sendportal/tags',\n",
       " 'blobs_url': 'https://api.github.com/repos/mettle/sendportal/git/blobs{/sha}',\n",
       " 'git_tags_url': 'https://api.github.com/repos/mettle/sendportal/git/tags{/sha}',\n",
       " 'git_refs_url': 'https://api.github.com/repos/mettle/sendportal/git/refs{/sha}',\n",
       " 'trees_url': 'https://api.github.com/repos/mettle/sendportal/git/trees{/sha}',\n",
       " 'statuses_url': 'https://api.github.com/repos/mettle/sendportal/statuses/{sha}',\n",
       " 'languages_url': 'https://api.github.com/repos/mettle/sendportal/languages',\n",
       " 'stargazers_url': 'https://api.github.com/repos/mettle/sendportal/stargazers',\n",
       " 'contributors_url': 'https://api.github.com/repos/mettle/sendportal/contributors',\n",
       " 'subscribers_url': 'https://api.github.com/repos/mettle/sendportal/subscribers',\n",
       " 'subscription_url': 'https://api.github.com/repos/mettle/sendportal/subscription',\n",
       " 'commits_url': 'https://api.github.com/repos/mettle/sendportal/commits{/sha}',\n",
       " 'git_commits_url': 'https://api.github.com/repos/mettle/sendportal/git/commits{/sha}',\n",
       " 'comments_url': 'https://api.github.com/repos/mettle/sendportal/comments{/number}',\n",
       " 'issue_comment_url': 'https://api.github.com/repos/mettle/sendportal/issues/comments{/number}',\n",
       " 'contents_url': 'https://api.github.com/repos/mettle/sendportal/contents/{+path}',\n",
       " 'compare_url': 'https://api.github.com/repos/mettle/sendportal/compare/{base}...{head}',\n",
       " 'merges_url': 'https://api.github.com/repos/mettle/sendportal/merges',\n",
       " 'archive_url': 'https://api.github.com/repos/mettle/sendportal/{archive_format}{/ref}',\n",
       " 'downloads_url': 'https://api.github.com/repos/mettle/sendportal/downloads',\n",
       " 'issues_url': 'https://api.github.com/repos/mettle/sendportal/issues{/number}',\n",
       " 'pulls_url': 'https://api.github.com/repos/mettle/sendportal/pulls{/number}',\n",
       " 'milestones_url': 'https://api.github.com/repos/mettle/sendportal/milestones{/number}',\n",
       " 'notifications_url': 'https://api.github.com/repos/mettle/sendportal/notifications{?since,all,participating}',\n",
       " 'labels_url': 'https://api.github.com/repos/mettle/sendportal/labels{/name}',\n",
       " 'releases_url': 'https://api.github.com/repos/mettle/sendportal/releases{/id}',\n",
       " 'deployments_url': 'https://api.github.com/repos/mettle/sendportal/deployments',\n",
       " 'created_at': '2020-06-04T10:09:21Z',\n",
       " 'updated_at': '2021-07-04T17:32:27Z',\n",
       " 'pushed_at': '2021-05-20T09:47:46Z',\n",
       " 'git_url': 'git://github.com/mettle/sendportal.git',\n",
       " 'ssh_url': 'git@github.com:mettle/sendportal.git',\n",
       " 'clone_url': 'https://github.com/mettle/sendportal.git',\n",
       " 'svn_url': 'https://github.com/mettle/sendportal',\n",
       " 'homepage': 'https://sendportal.io',\n",
       " 'size': 326,\n",
       " 'stargazers_count': 835,\n",
       " 'watchers_count': 835,\n",
       " 'language': 'PHP',\n",
       " 'has_issues': True,\n",
       " 'has_projects': True,\n",
       " 'has_downloads': True,\n",
       " 'has_wiki': True,\n",
       " 'has_pages': False,\n",
       " 'forks_count': 145,\n",
       " 'mirror_url': None,\n",
       " 'archived': False,\n",
       " 'disabled': False,\n",
       " 'open_issues_count': 21,\n",
       " 'license': {'key': 'mit',\n",
       "  'name': 'MIT License',\n",
       "  'spdx_id': 'MIT',\n",
       "  'url': 'https://api.github.com/licenses/mit',\n",
       "  'node_id': 'MDc6TGljZW5zZTEz'},\n",
       " 'forks': 145,\n",
       " 'open_issues': 21,\n",
       " 'watchers': 835,\n",
       " 'default_branch': 'master',\n",
       " 'score': 1.0}"
      ]
     },
     "execution_count": 8,
     "metadata": {},
     "output_type": "execute_result"
    }
   ],
   "source": [
    "# inspects results item structure\n",
    "res['items'][2]"
   ]
  },
  {
   "cell_type": "code",
   "execution_count": 9,
   "id": "229e91dd",
   "metadata": {},
   "outputs": [
    {
     "data": {
      "text/plain": [
       "'Open-source self-hosted email marketing. Manage your own newsletters at a fraction of the cost. '"
      ]
     },
     "execution_count": 9,
     "metadata": {},
     "output_type": "execute_result"
    }
   ],
   "source": [
    "res['items'][2]['description']"
   ]
  },
  {
   "cell_type": "code",
   "execution_count": 10,
   "id": "3a5c16b5",
   "metadata": {},
   "outputs": [
    {
     "data": {
      "text/plain": [
       "100"
      ]
     },
     "execution_count": 10,
     "metadata": {},
     "output_type": "execute_result"
    }
   ],
   "source": [
    "# total number of top repositories collected\n",
    "len(res['items'])"
   ]
  },
  {
   "cell_type": "code",
   "execution_count": 11,
   "id": "af92fb51",
   "metadata": {},
   "outputs": [],
   "source": [
    "stop_words = set(stopwords.words('english'))\n",
    "\n",
    "# text cleaning function\n",
    "def text_cleanup(s):\n",
    "    # if not a string object, disregard\n",
    "    if not isinstance(s, str):\n",
    "        return ''\n",
    "    \n",
    "    s_unesc = html.unescape(re.sub(r\"http\\S+\", \"\", re.sub('\\n+', ' ', s)))\n",
    "    s_noemoji = s_unesc.encode('ascii', 'ignore').decode('ascii')\n",
    "    # normalize to lowercase and tokenize\n",
    "    wt = word_tokenize(s_noemoji.lower())\n",
    "    \n",
    "    # filter word-tokens\n",
    "    wt_filt = [w for w in wt if (w not in stop_words) and (w not in string.punctuation) and w.isalnum()]\n",
    "    \n",
    "    # return clean string\n",
    "    return ' '.join(wt_filt)"
   ]
  },
  {
   "cell_type": "code",
   "execution_count": 12,
   "id": "051a6f5f",
   "metadata": {},
   "outputs": [
    {
     "data": {
      "text/plain": [
       "'email marketing manage newsletters fraction cost'"
      ]
     },
     "execution_count": 12,
     "metadata": {},
     "output_type": "execute_result"
    }
   ],
   "source": [
    "# clean text of repository descriotions\n",
    "text_cleanup(res['items'][2]['description'])"
   ]
  },
  {
   "cell_type": "code",
   "execution_count": 13,
   "id": "68a5f403",
   "metadata": {},
   "outputs": [],
   "source": [
    "# list of cleaned-up top repository description strings\n",
    "descr = [text_cleanup(r['description']) for r in res['items']]"
   ]
  },
  {
   "cell_type": "code",
   "execution_count": 14,
   "id": "b00e90d2",
   "metadata": {},
   "outputs": [],
   "source": [
    "# NLTK collocations search (words occuring together): bigrams\n",
    "# https://www.nltk.org/howto/collocations.html\n",
    "# http://www.nltk.org/api/nltk.html#nltk.util.bigrams\n",
    "bigram_measures = nltk.collocations.BigramAssocMeasures()\n",
    "bigram_finder = BigramCollocationFinder.from_documents([d.split() for d in descr])"
   ]
  },
  {
   "cell_type": "code",
   "execution_count": 15,
   "id": "dc612851",
   "metadata": {},
   "outputs": [],
   "source": [
    "# filter out bigrams occurring less than three times in the combined text\n",
    "bigram_finder.apply_freq_filter(3)"
   ]
  },
  {
   "cell_type": "code",
   "execution_count": 16,
   "id": "caac5fc0",
   "metadata": {},
   "outputs": [
    {
     "data": {
      "text/plain": [
       "[(('email', 'marketing'), 3),\n",
       " (('open', 'source'), 4),\n",
       " (('digital', 'marketing'), 4),\n",
       " (('marketing', 'mix'), 4),\n",
       " (('mix', 'modeling'), 3),\n",
       " (('machine', 'learning'), 3),\n",
       " (('marketing', 'site'), 4),\n",
       " (('customer', 'segmentation'), 6),\n",
       " (('marketing', 'website'), 7),\n",
       " (('hms', 'dtm'), 4),\n",
       " (('dtm', 'demo'), 4),\n",
       " (('demo', 'provides'), 4),\n",
       " (('provides', 'guidance'), 4),\n",
       " (('guidance', 'developers'), 4),\n",
       " (('developers', 'use'), 4),\n",
       " (('use', 'hms'), 4),\n",
       " (('hms', 'dynamic'), 4),\n",
       " (('dynamic', 'tag'), 4),\n",
       " (('tag', 'manager'), 4),\n",
       " (('manager', 'illustrates'), 4),\n",
       " (('illustrates', 'track'), 4),\n",
       " (('track', 'specific'), 4),\n",
       " (('specific', 'events'), 4),\n",
       " (('events', 'report'), 4),\n",
       " (('report', 'data'), 4),\n",
       " (('data', 'analytics'), 4),\n",
       " (('analytics', 'platforms'), 4),\n",
       " (('platforms', 'monitoring'), 4),\n",
       " (('monitoring', 'marketing'), 4),\n",
       " (('marketing', 'activity'), 4),\n",
       " (('activity', 'data'), 4),\n",
       " (('data', 'needed'), 4)]"
      ]
     },
     "execution_count": 16,
     "metadata": {},
     "output_type": "execute_result"
    }
   ],
   "source": [
    "# list of bigrams with their frequencies\n",
    "bigram_freq = list(bigram_finder.ngram_fd.items())\n",
    "bigram_freq"
   ]
  },
  {
   "cell_type": "code",
   "execution_count": 17,
   "id": "33d71875",
   "metadata": {},
   "outputs": [
    {
     "data": {
      "text/html": [
       "<div>\n",
       "<style scoped>\n",
       "    .dataframe tbody tr th:only-of-type {\n",
       "        vertical-align: middle;\n",
       "    }\n",
       "\n",
       "    .dataframe tbody tr th {\n",
       "        vertical-align: top;\n",
       "    }\n",
       "\n",
       "    .dataframe thead th {\n",
       "        text-align: right;\n",
       "    }\n",
       "</style>\n",
       "<table border=\"1\" class=\"dataframe\">\n",
       "  <thead>\n",
       "    <tr style=\"text-align: right;\">\n",
       "      <th></th>\n",
       "      <th>count</th>\n",
       "    </tr>\n",
       "    <tr>\n",
       "      <th>keyphrase</th>\n",
       "      <th></th>\n",
       "    </tr>\n",
       "  </thead>\n",
       "  <tbody>\n",
       "    <tr>\n",
       "      <th>marketing website</th>\n",
       "      <td>7</td>\n",
       "    </tr>\n",
       "    <tr>\n",
       "      <th>customer segmentation</th>\n",
       "      <td>6</td>\n",
       "    </tr>\n",
       "    <tr>\n",
       "      <th>data analytics</th>\n",
       "      <td>4</td>\n",
       "    </tr>\n",
       "    <tr>\n",
       "      <th>manager illustrates</th>\n",
       "      <td>4</td>\n",
       "    </tr>\n",
       "    <tr>\n",
       "      <th>illustrates track</th>\n",
       "      <td>4</td>\n",
       "    </tr>\n",
       "    <tr>\n",
       "      <th>track specific</th>\n",
       "      <td>4</td>\n",
       "    </tr>\n",
       "    <tr>\n",
       "      <th>specific events</th>\n",
       "      <td>4</td>\n",
       "    </tr>\n",
       "    <tr>\n",
       "      <th>events report</th>\n",
       "      <td>4</td>\n",
       "    </tr>\n",
       "    <tr>\n",
       "      <th>report data</th>\n",
       "      <td>4</td>\n",
       "    </tr>\n",
       "    <tr>\n",
       "      <th>hms dynamic</th>\n",
       "      <td>4</td>\n",
       "    </tr>\n",
       "    <tr>\n",
       "      <th>dynamic tag</th>\n",
       "      <td>4</td>\n",
       "    </tr>\n",
       "    <tr>\n",
       "      <th>analytics platforms</th>\n",
       "      <td>4</td>\n",
       "    </tr>\n",
       "    <tr>\n",
       "      <th>platforms monitoring</th>\n",
       "      <td>4</td>\n",
       "    </tr>\n",
       "    <tr>\n",
       "      <th>monitoring marketing</th>\n",
       "      <td>4</td>\n",
       "    </tr>\n",
       "    <tr>\n",
       "      <th>marketing activity</th>\n",
       "      <td>4</td>\n",
       "    </tr>\n",
       "    <tr>\n",
       "      <th>activity data</th>\n",
       "      <td>4</td>\n",
       "    </tr>\n",
       "    <tr>\n",
       "      <th>tag manager</th>\n",
       "      <td>4</td>\n",
       "    </tr>\n",
       "    <tr>\n",
       "      <th>data needed</th>\n",
       "      <td>4</td>\n",
       "    </tr>\n",
       "    <tr>\n",
       "      <th>open source</th>\n",
       "      <td>4</td>\n",
       "    </tr>\n",
       "    <tr>\n",
       "      <th>use hms</th>\n",
       "      <td>4</td>\n",
       "    </tr>\n",
       "    <tr>\n",
       "      <th>developers use</th>\n",
       "      <td>4</td>\n",
       "    </tr>\n",
       "    <tr>\n",
       "      <th>guidance developers</th>\n",
       "      <td>4</td>\n",
       "    </tr>\n",
       "    <tr>\n",
       "      <th>provides guidance</th>\n",
       "      <td>4</td>\n",
       "    </tr>\n",
       "    <tr>\n",
       "      <th>demo provides</th>\n",
       "      <td>4</td>\n",
       "    </tr>\n",
       "    <tr>\n",
       "      <th>dtm demo</th>\n",
       "      <td>4</td>\n",
       "    </tr>\n",
       "    <tr>\n",
       "      <th>hms dtm</th>\n",
       "      <td>4</td>\n",
       "    </tr>\n",
       "    <tr>\n",
       "      <th>marketing site</th>\n",
       "      <td>4</td>\n",
       "    </tr>\n",
       "    <tr>\n",
       "      <th>marketing mix</th>\n",
       "      <td>4</td>\n",
       "    </tr>\n",
       "    <tr>\n",
       "      <th>digital marketing</th>\n",
       "      <td>4</td>\n",
       "    </tr>\n",
       "    <tr>\n",
       "      <th>machine learning</th>\n",
       "      <td>3</td>\n",
       "    </tr>\n",
       "    <tr>\n",
       "      <th>mix modeling</th>\n",
       "      <td>3</td>\n",
       "    </tr>\n",
       "    <tr>\n",
       "      <th>email marketing</th>\n",
       "      <td>3</td>\n",
       "    </tr>\n",
       "  </tbody>\n",
       "</table>\n",
       "</div>"
      ],
      "text/plain": [
       "                       count\n",
       "keyphrase                   \n",
       "marketing website          7\n",
       "customer segmentation      6\n",
       "data analytics             4\n",
       "manager illustrates        4\n",
       "illustrates track          4\n",
       "track specific             4\n",
       "specific events            4\n",
       "events report              4\n",
       "report data                4\n",
       "hms dynamic                4\n",
       "dynamic tag                4\n",
       "analytics platforms        4\n",
       "platforms monitoring       4\n",
       "monitoring marketing       4\n",
       "marketing activity         4\n",
       "activity data              4\n",
       "tag manager                4\n",
       "data needed                4\n",
       "open source                4\n",
       "use hms                    4\n",
       "developers use             4\n",
       "guidance developers        4\n",
       "provides guidance          4\n",
       "demo provides              4\n",
       "dtm demo                   4\n",
       "hms dtm                    4\n",
       "marketing site             4\n",
       "marketing mix              4\n",
       "digital marketing          4\n",
       "machine learning           3\n",
       "mix modeling               3\n",
       "email marketing            3"
      ]
     },
     "execution_count": 17,
     "metadata": {},
     "output_type": "execute_result"
    }
   ],
   "source": [
    "# collect into a pandas dataframe\n",
    "df_freq = pd.DataFrame([(' '.join(k), v) for k,v in bigram_freq], columns=['keyphrase', 'count'])\n",
    "df_freq.sort_values(by='count', ascending=False, inplace=True)\n",
    "df_freq.set_index('keyphrase', inplace = True)\n",
    "df_freq"
   ]
  },
  {
   "cell_type": "code",
   "execution_count": 18,
   "id": "3b6c2f40",
   "metadata": {},
   "outputs": [
    {
     "data": {
      "image/png": "[encoded data removed]",
      "text/plain": [
       "<Figure size 640x480 with 1 Axes>"
      ]
     },
     "metadata": {},
     "output_type": "display_data"
    }
   ],
   "source": [
    "plt.style.use('ggplot')\n",
    "\n",
    "# render a horizontal bar graph\n",
    "df_freq.head(20).sort_values(by='count').plot(kind = 'barh')\n",
    "plt.title('Trending keyphrases')\n",
    "plt.ylabel('phrase')\n",
    "plt.xlabel('count')\n",
    "plt.legend().set_visible(False)\n",
    "plt.show()"
   ]
  }
 ],
 "metadata": {
  "kernelspec": {
   "display_name": "Python 3",
   "language": "python",
   "name": "python3"
  },
  "language_info": {
   "codemirror_mode": {
    "name": "ipython",
    "version": 3
   },
   "file_extension": ".py",
   "mimetype": "text/x-python",
   "name": "python",
   "nbconvert_exporter": "python",
   "pygments_lexer": "ipython3",
   "version": "3.7.10"
  }
 },
 "nbformat": 4,
 "nbformat_minor": 5
}
