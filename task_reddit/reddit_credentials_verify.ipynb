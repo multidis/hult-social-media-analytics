{
 "cells": [
  {
   "cell_type": "code",
   "execution_count": 1,
   "id": "7d1d985c",
   "metadata": {},
   "outputs": [],
   "source": [
    "# For Reddit API interactions:\n",
    "#  install praw package (https://praw.readthedocs.io/en/stable/);\n",
    "# In terminal:\n",
    "#  conda install -c conda-forge praw\n",
    "#\n",
    "# Alternatively, right here in the notebook (uncomment the next two lines and run):\n",
    "#import sys\n",
    "#!conda install -c conda-forge --yes --prefix {sys.prefix} praw"
   ]
  },
  {
   "cell_type": "code",
   "execution_count": 2,
   "id": "ebebde48",
   "metadata": {},
   "outputs": [],
   "source": [
    "# Save \"config_reddit.py\" file in your working folder:\n",
    "#  https://raw.githubusercontent.com/multidis/hult-social-media-analytics/main/task_reddit/config_reddit.py\n",
    "# and edit the values (put your own credentials in that file).\n",
    "#\n",
    "# Collect your Twitter developer access tokens as described in the course module,\n",
    "#  \"Generating Twitter developer access tokens\" page\n",
    "#\n",
    "# Edit \"config_twitter.py\" entering your keys/tokens in the respective assignment statements (instead of \"todo\").\n",
    "# Then proceed with the cells below."
   ]
  },
  {
   "cell_type": "code",
   "execution_count": 3,
   "id": "6d9f4bb9",
   "metadata": {},
   "outputs": [],
   "source": [
    "import praw\n",
    "import config_reddit"
   ]
  },
  {
   "cell_type": "code",
   "execution_count": 4,
   "id": "80a2a0de",
   "metadata": {},
   "outputs": [],
   "source": [
    "# establish an API connection\n",
    "reddit = praw.Reddit(user_agent=f\"Exploration script by /u/{config_reddit.user_name}\",\n",
    "                     client_id=config_reddit.app_id,\n",
    "                     client_secret=config_reddit.app_secret)"
   ]
  },
  {
   "cell_type": "code",
   "execution_count": 5,
   "id": "cc1c05e2",
   "metadata": {},
   "outputs": [
    {
     "data": {
      "text/plain": [
       "True"
      ]
     },
     "execution_count": 5,
     "metadata": {},
     "output_type": "execute_result"
    }
   ],
   "source": [
    "# returns True for read-only connection, if everything is configured correctly\n",
    "reddit.read_only"
   ]
  }
 ],
 "metadata": {
  "kernelspec": {
   "display_name": "Python 3 (ipykernel)",
   "language": "python",
   "name": "python3"
  },
  "language_info": {
   "codemirror_mode": {
    "name": "ipython",
    "version": 3
   },
   "file_extension": ".py",
   "mimetype": "text/x-python",
   "name": "python",
   "nbconvert_exporter": "python",
   "pygments_lexer": "ipython3",
   "version": "3.9.12"
  }
 },
 "nbformat": 4,
 "nbformat_minor": 5
}
