{
 "cells": [
  {
   "cell_type": "code",
   "execution_count": 1,
   "id": "b59ef8fd",
   "metadata": {},
   "outputs": [],
   "source": [
    "# Collect relevant tweets through the Twitter API.\n",
    "import json\n",
    "import requests\n",
    "import tweepy as tw"
   ]
  },
  {
   "cell_type": "code",
   "execution_count": 2,
   "id": "50c06462",
   "metadata": {},
   "outputs": [],
   "source": [
    "# IMPORTANT: enter proper access credential in config_twitter_v2api.py file\n",
    "import config_twitter_v2api as config_twitter"
   ]
  },
  {
   "cell_type": "code",
   "execution_count": 3,
   "id": "444f7bba",
   "metadata": {},
   "outputs": [
    {
     "data": {
      "text/plain": [
       "<tweepy.client.Client at 0x7fdb822a2190>"
      ]
     },
     "execution_count": 3,
     "metadata": {},
     "output_type": "execute_result"
    }
   ],
   "source": [
    "# Establish the Twitter v2 API connection, respecting the rate limit\n",
    "api = tw.Client(bearer_token=config_twitter.bearer_token, wait_on_rate_limit=True)\n",
    "api"
   ]
  },
  {
   "cell_type": "code",
   "execution_count": 4,
   "id": "9e6db275",
   "metadata": {},
   "outputs": [],
   "source": [
    "# construct a search query\n",
    "query = 'ebike OR \"electric bike\" OR \"electric bicycle\" -is:retweet lang:en'"
   ]
  },
  {
   "cell_type": "code",
   "execution_count": 5,
   "id": "7360dc42",
   "metadata": {},
   "outputs": [],
   "source": [
    "# decide how many tweets to query\n",
    "###TODO increase this value later to collect a good dataset (try 10000 for instance)\n",
    "ntweets = 200\n",
    "#ntweets = 10000"
   ]
  },
  {
   "cell_type": "code",
   "execution_count": 6,
   "id": "1100a51f",
   "metadata": {},
   "outputs": [
    {
     "data": {
      "text/plain": [
       "200"
      ]
     },
     "execution_count": 6,
     "metadata": {},
     "output_type": "execute_result"
    }
   ],
   "source": [
    "# collect recent tweets and convert to json\n",
    "fields_sel = ['id', 'created_at', 'text', 'author_id', 'public_metrics']\n",
    "tweets_resp = tw.Paginator(api.search_recent_tweets, query=query, tweet_fields=fields_sel,\n",
    "                           max_results=100).flatten(limit=ntweets)\n",
    "tweets = [t.data for t in tweets_resp]\n",
    "len(tweets)"
   ]
  },
  {
   "cell_type": "code",
   "execution_count": 7,
   "id": "32bbc3a2",
   "metadata": {},
   "outputs": [
    {
     "data": {
      "text/plain": [
       "{'public_metrics': {'retweet_count': 0,\n",
       "  'reply_count': 0,\n",
       "  'like_count': 0,\n",
       "  'quote_count': 0},\n",
       " 'author_id': '1425216622978031616',\n",
       " 'created_at': '2022-07-25T23:21:19.000Z',\n",
       " 'id': '1551709209967869954',\n",
       " 'text': 'now i want an electric bike'}"
      ]
     },
     "execution_count": 7,
     "metadata": {},
     "output_type": "execute_result"
    }
   ],
   "source": [
    "# example tweet content (json structure)\n",
    "tweets[0]"
   ]
  },
  {
   "cell_type": "code",
   "execution_count": 8,
   "id": "806ebea7",
   "metadata": {},
   "outputs": [],
   "source": [
    "# save tweets data to json file\n",
    "file_out = f\"raw_tweet_data_{ntweets}.json\"\n",
    "with open(file_out, mode='w') as f:\n",
    "    f.write(json.dumps(tweets, indent=2))"
   ]
  }
 ],
 "metadata": {
  "kernelspec": {
   "display_name": "Python 3 (ipykernel)",
   "language": "python",
   "name": "python3"
  },
  "language_info": {
   "codemirror_mode": {
    "name": "ipython",
    "version": 3
   },
   "file_extension": ".py",
   "mimetype": "text/x-python",
   "name": "python",
   "nbconvert_exporter": "python",
   "pygments_lexer": "ipython3",
   "version": "3.9.13"
  }
 },
 "nbformat": 4,
 "nbformat_minor": 5
}
