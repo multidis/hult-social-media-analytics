{
 "cells": [
  {
   "cell_type": "code",
   "execution_count": 1,
   "id": "b59ef8fd",
   "metadata": {},
   "outputs": [],
   "source": [
    "# Collect relevant tweets through the Twitter API.\n",
    "import json\n",
    "import tweepy as tw"
   ]
  },
  {
   "cell_type": "code",
   "execution_count": 2,
   "id": "50c06462",
   "metadata": {},
   "outputs": [],
   "source": [
    "# IMPORTANT: enter proper access credential in config_twitter.py file\n",
    "import config_twitter"
   ]
  },
  {
   "cell_type": "code",
   "execution_count": 3,
   "id": "7ded247a",
   "metadata": {},
   "outputs": [],
   "source": [
    "# function to establish an initial API connection, respecting the rate limit\n",
    "def connect_api_client():\n",
    "    auth = tw.OAuthHandler(config_twitter.consumer_key, config_twitter.consumer_secret)\n",
    "    auth.set_access_token(config_twitter.access_token, config_twitter.access_token_secret)\n",
    "    # https://docs.tweepy.org/en/stable/getting_started.html#api\n",
    "    api = tw.API(auth, wait_on_rate_limit=True)\n",
    "    try:\n",
    "        # returns False if credentials could not be verified\n",
    "        # https://docs.tweepy.org/en/stable/api.html#API.verify_credentials\n",
    "        api.verify_credentials()\n",
    "        user = api.verify_credentials()\n",
    "        if not user:\n",
    "            raise(\"Credentials could not be verified: Please check config.py\")\n",
    "        print(f\"Connected to Twitter API as {user.name}\")\n",
    "    except Exception as e:\n",
    "        raise e\n",
    "    return api"
   ]
  },
  {
   "cell_type": "code",
   "execution_count": 4,
   "id": "8cea8b14",
   "metadata": {},
   "outputs": [
    {
     "name": "stdout",
     "output_type": "stream",
     "text": [
      "Connected to Twitter API as Pavel P\n"
     ]
    }
   ],
   "source": [
    "api = connect_api_client()"
   ]
  },
  {
   "cell_type": "code",
   "execution_count": 5,
   "id": "9e6db275",
   "metadata": {},
   "outputs": [],
   "source": [
    "# construct a search query\n",
    "query = 'ebike OR \"electric bike\" OR \"electric bicycle\" -filter:retweets'"
   ]
  },
  {
   "cell_type": "code",
   "execution_count": 6,
   "id": "7360dc42",
   "metadata": {},
   "outputs": [],
   "source": [
    "# decide how many tweets to query\n",
    "###TODO increase this value later to collect a good dataset (try 2000 for instance)\n",
    "ntweets = 200"
   ]
  },
  {
   "cell_type": "code",
   "execution_count": 7,
   "id": "90f6b88e",
   "metadata": {},
   "outputs": [
    {
     "data": {
      "text/plain": [
       "200"
      ]
     },
     "execution_count": 7,
     "metadata": {},
     "output_type": "execute_result"
    }
   ],
   "source": [
    "# search and collect relevant tweets\n",
    "# https://docs.tweepy.org/en/stable/cursor_tutorial.html\n",
    "# https://docs.tweepy.org/en/stable/code_snippet.html\n",
    "tweets = [tweet._json for tweet in tw.Cursor(api.search, q=query, lang=\"en\", tweet_mode='extended').items(ntweets)]\n",
    "len(tweets)"
   ]
  },
  {
   "cell_type": "code",
   "execution_count": 8,
   "id": "32bbc3a2",
   "metadata": {},
   "outputs": [
    {
     "data": {
      "text/plain": [
       "{'created_at': 'Sun Jun 27 22:03:40 +0000 2021',\n",
       " 'id': 1409271236014882816,\n",
       " 'id_str': '1409271236014882816',\n",
       " 'full_text': 'Fiido D11 review: This folding ebike has good looks, low weight, and solid\\xa0range https://t.co/Sgd6WxbYW6',\n",
       " 'truncated': False,\n",
       " 'display_text_range': [0, 104],\n",
       " 'entities': {'hashtags': [],\n",
       "  'symbols': [],\n",
       "  'user_mentions': [],\n",
       "  'urls': [{'url': 'https://t.co/Sgd6WxbYW6',\n",
       "    'expanded_url': 'https://www.blacktechdaily.com/fiido-d11-review-this-folding-ebike-has-good-looks-low-weight-and-solid-range/',\n",
       "    'display_url': 'blacktechdaily.com/fiido-d11-revi…',\n",
       "    'indices': [81, 104]}]},\n",
       " 'metadata': {'iso_language_code': 'en', 'result_type': 'recent'},\n",
       " 'source': '<a href=\"http://publicize.wp.com/\" rel=\"nofollow\">WordPress.com</a>',\n",
       " 'in_reply_to_status_id': None,\n",
       " 'in_reply_to_status_id_str': None,\n",
       " 'in_reply_to_user_id': None,\n",
       " 'in_reply_to_user_id_str': None,\n",
       " 'in_reply_to_screen_name': None,\n",
       " 'user': {'id': 1218544543294947330,\n",
       "  'id_str': '1218544543294947330',\n",
       "  'name': 'Black Media Daily',\n",
       "  'screen_name': 'BMDaily1',\n",
       "  'location': '',\n",
       "  'description': 'Curators of Black Media',\n",
       "  'url': 'https://t.co/kZkqztiLLj',\n",
       "  'entities': {'url': {'urls': [{'url': 'https://t.co/kZkqztiLLj',\n",
       "      'expanded_url': 'https://blackmediadaily.com/',\n",
       "      'display_url': 'blackmediadaily.com',\n",
       "      'indices': [0, 23]}]},\n",
       "   'description': {'urls': []}},\n",
       "  'protected': False,\n",
       "  'followers_count': 99,\n",
       "  'friends_count': 21,\n",
       "  'listed_count': 3,\n",
       "  'created_at': 'Sat Jan 18 14:44:19 +0000 2020',\n",
       "  'favourites_count': 29,\n",
       "  'utc_offset': None,\n",
       "  'time_zone': None,\n",
       "  'geo_enabled': False,\n",
       "  'verified': False,\n",
       "  'statuses_count': 39537,\n",
       "  'lang': None,\n",
       "  'contributors_enabled': False,\n",
       "  'is_translator': False,\n",
       "  'is_translation_enabled': False,\n",
       "  'profile_background_color': 'F5F8FA',\n",
       "  'profile_background_image_url': None,\n",
       "  'profile_background_image_url_https': None,\n",
       "  'profile_background_tile': False,\n",
       "  'profile_image_url': 'http://pbs.twimg.com/profile_images/1367937814420205569/L9dc2UJq_normal.jpg',\n",
       "  'profile_image_url_https': 'https://pbs.twimg.com/profile_images/1367937814420205569/L9dc2UJq_normal.jpg',\n",
       "  'profile_banner_url': 'https://pbs.twimg.com/profile_banners/1218544543294947330/1579645517',\n",
       "  'profile_link_color': '1DA1F2',\n",
       "  'profile_sidebar_border_color': 'C0DEED',\n",
       "  'profile_sidebar_fill_color': 'DDEEF6',\n",
       "  'profile_text_color': '333333',\n",
       "  'profile_use_background_image': True,\n",
       "  'has_extended_profile': True,\n",
       "  'default_profile': True,\n",
       "  'default_profile_image': False,\n",
       "  'following': False,\n",
       "  'follow_request_sent': False,\n",
       "  'notifications': False,\n",
       "  'translator_type': 'none',\n",
       "  'withheld_in_countries': []},\n",
       " 'geo': None,\n",
       " 'coordinates': None,\n",
       " 'place': None,\n",
       " 'contributors': None,\n",
       " 'is_quote_status': False,\n",
       " 'retweet_count': 0,\n",
       " 'favorite_count': 0,\n",
       " 'favorited': False,\n",
       " 'retweeted': False,\n",
       " 'possibly_sensitive': False,\n",
       " 'lang': 'en'}"
      ]
     },
     "execution_count": 8,
     "metadata": {},
     "output_type": "execute_result"
    }
   ],
   "source": [
    "# example tweet content (json structure)\n",
    "tweets[0]"
   ]
  },
  {
   "cell_type": "code",
   "execution_count": 9,
   "id": "806ebea7",
   "metadata": {},
   "outputs": [],
   "source": [
    "# save tweets data to json file\n",
    "file_out = f\"raw_tweet_data_{ntweets}.json\"\n",
    "with open(file_out, mode='w') as f:\n",
    "    f.write(json.dumps(tweets, indent=2))"
   ]
  }
 ],
 "metadata": {
  "kernelspec": {
   "display_name": "Python 3",
   "language": "python",
   "name": "python3"
  },
  "language_info": {
   "codemirror_mode": {
    "name": "ipython",
    "version": 3
   },
   "file_extension": ".py",
   "mimetype": "text/x-python",
   "name": "python",
   "nbconvert_exporter": "python",
   "pygments_lexer": "ipython3",
   "version": "3.7.10"
  }
 },
 "nbformat": 4,
 "nbformat_minor": 5
}
