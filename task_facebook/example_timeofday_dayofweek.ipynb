{
 "cells": [
  {
   "cell_type": "code",
   "execution_count": 1,
   "id": "833af0d4",
   "metadata": {},
   "outputs": [],
   "source": [
    "# Facebook page analysis: time of day aspect\n",
    "import pandas as pd"
   ]
  },
  {
   "cell_type": "code",
   "execution_count": 2,
   "id": "b897d577",
   "metadata": {},
   "outputs": [
    {
     "data": {
      "text/html": [
       "<div>\n",
       "<style scoped>\n",
       "    .dataframe tbody tr th:only-of-type {\n",
       "        vertical-align: middle;\n",
       "    }\n",
       "\n",
       "    .dataframe tbody tr th {\n",
       "        vertical-align: top;\n",
       "    }\n",
       "\n",
       "    .dataframe thead th {\n",
       "        text-align: right;\n",
       "    }\n",
       "</style>\n",
       "<table border=\"1\" class=\"dataframe\">\n",
       "  <thead>\n",
       "    <tr style=\"text-align: right;\">\n",
       "      <th></th>\n",
       "      <th>created_time</th>\n",
       "      <th>message</th>\n",
       "      <th>type</th>\n",
       "      <th>story</th>\n",
       "      <th>likes_count</th>\n",
       "      <th>comments_count</th>\n",
       "      <th>shares_count</th>\n",
       "      <th>love_count</th>\n",
       "      <th>haha_count</th>\n",
       "      <th>wow_count</th>\n",
       "      <th>sad_count</th>\n",
       "      <th>angry_count</th>\n",
       "      <th>comments</th>\n",
       "    </tr>\n",
       "  </thead>\n",
       "  <tbody>\n",
       "    <tr>\n",
       "      <th>0</th>\n",
       "      <td>2012-06-20 15:12:38</td>\n",
       "      <td>Ummm, yum! What would be in your ULTIMATE naug...</td>\n",
       "      <td>photo</td>\n",
       "      <td>Australis Cosmetics with Evalyn McGregor-Koch ...</td>\n",
       "      <td>715</td>\n",
       "      <td>47</td>\n",
       "      <td>46</td>\n",
       "      <td>0.0</td>\n",
       "      <td>0.0</td>\n",
       "      <td>0.0</td>\n",
       "      <td>0.0</td>\n",
       "      <td>0.0</td>\n",
       "      <td>that looks awesome Icecream with crushed oreo....</td>\n",
       "    </tr>\n",
       "    <tr>\n",
       "      <th>1</th>\n",
       "      <td>2012-06-21 15:09:46</td>\n",
       "      <td>Click 'like' if you worry about that too! &lt;3 &lt;3</td>\n",
       "      <td>photo</td>\n",
       "      <td>NaN</td>\n",
       "      <td>1103</td>\n",
       "      <td>8</td>\n",
       "      <td>80</td>\n",
       "      <td>0.0</td>\n",
       "      <td>0.0</td>\n",
       "      <td>0.0</td>\n",
       "      <td>0.0</td>\n",
       "      <td>0.0</td>\n",
       "      <td>:\\ true. i agree I just moved and I am particu...</td>\n",
       "    </tr>\n",
       "    <tr>\n",
       "      <th>2</th>\n",
       "      <td>2012-06-22 10:41:36</td>\n",
       "      <td>Seems like some celebs can get away with any h...</td>\n",
       "      <td>photo</td>\n",
       "      <td>NaN</td>\n",
       "      <td>161</td>\n",
       "      <td>12</td>\n",
       "      <td>2</td>\n",
       "      <td>0.0</td>\n",
       "      <td>0.0</td>\n",
       "      <td>0.0</td>\n",
       "      <td>0.0</td>\n",
       "      <td>0.0</td>\n",
       "      <td>blonde her eye colour is different Way better ...</td>\n",
       "    </tr>\n",
       "    <tr>\n",
       "      <th>3</th>\n",
       "      <td>2012-06-22 15:37:04</td>\n",
       "      <td>We absolutely adore our bling here at Australi...</td>\n",
       "      <td>photo</td>\n",
       "      <td>NaN</td>\n",
       "      <td>30</td>\n",
       "      <td>0</td>\n",
       "      <td>0</td>\n",
       "      <td>0.0</td>\n",
       "      <td>0.0</td>\n",
       "      <td>0.0</td>\n",
       "      <td>0.0</td>\n",
       "      <td>0.0</td>\n",
       "      <td>NaN</td>\n",
       "    </tr>\n",
       "    <tr>\n",
       "      <th>4</th>\n",
       "      <td>2012-06-25 10:26:10</td>\n",
       "      <td>You know you want to... :P</td>\n",
       "      <td>photo</td>\n",
       "      <td>Australis Cosmetics with Evalyn McGregor-Koch ...</td>\n",
       "      <td>117</td>\n",
       "      <td>0</td>\n",
       "      <td>6</td>\n",
       "      <td>0.0</td>\n",
       "      <td>0.0</td>\n",
       "      <td>0.0</td>\n",
       "      <td>0.0</td>\n",
       "      <td>0.0</td>\n",
       "      <td>NaN</td>\n",
       "    </tr>\n",
       "    <tr>\n",
       "      <th>...</th>\n",
       "      <td>...</td>\n",
       "      <td>...</td>\n",
       "      <td>...</td>\n",
       "      <td>...</td>\n",
       "      <td>...</td>\n",
       "      <td>...</td>\n",
       "      <td>...</td>\n",
       "      <td>...</td>\n",
       "      <td>...</td>\n",
       "      <td>...</td>\n",
       "      <td>...</td>\n",
       "      <td>...</td>\n",
       "      <td>...</td>\n",
       "    </tr>\n",
       "    <tr>\n",
       "      <th>2039</th>\n",
       "      <td>2017-01-08 17:00:00</td>\n",
       "      <td>Are you a porcelain princess who just can�t fi...</td>\n",
       "      <td>photo</td>\n",
       "      <td>NaN</td>\n",
       "      <td>150</td>\n",
       "      <td>70</td>\n",
       "      <td>4</td>\n",
       "      <td>11.0</td>\n",
       "      <td>0.0</td>\n",
       "      <td>0.0</td>\n",
       "      <td>0.0</td>\n",
       "      <td>1.0</td>\n",
       "      <td>Yes but I also have such an intense red tone i...</td>\n",
       "    </tr>\n",
       "    <tr>\n",
       "      <th>2040</th>\n",
       "      <td>2017-01-09 19:30:00</td>\n",
       "      <td>Blend Velourlips NY-Cee and Doo-Bai to achieve...</td>\n",
       "      <td>photo</td>\n",
       "      <td>NaN</td>\n",
       "      <td>35</td>\n",
       "      <td>1</td>\n",
       "      <td>0</td>\n",
       "      <td>0.0</td>\n",
       "      <td>0.0</td>\n",
       "      <td>0.0</td>\n",
       "      <td>0.0</td>\n",
       "      <td>0.0</td>\n",
       "      <td>She looked gorgeous &lt;ed&gt;&lt;U+00A0&gt;&lt;U+00BD&gt;&lt;ed&gt;&lt;U...</td>\n",
       "    </tr>\n",
       "    <tr>\n",
       "      <th>2041</th>\n",
       "      <td>2017-01-10 09:30:00</td>\n",
       "      <td>FREE brush alert! To help you start the year w...</td>\n",
       "      <td>photo</td>\n",
       "      <td>NaN</td>\n",
       "      <td>40</td>\n",
       "      <td>4</td>\n",
       "      <td>1</td>\n",
       "      <td>0.0</td>\n",
       "      <td>0.0</td>\n",
       "      <td>1.0</td>\n",
       "      <td>0.0</td>\n",
       "      <td>0.0</td>\n",
       "      <td>I have this and it's honestly the best brush e...</td>\n",
       "    </tr>\n",
       "    <tr>\n",
       "      <th>2042</th>\n",
       "      <td>2017-01-15 16:30:00</td>\n",
       "      <td>Add some glow to your look with the High Life ...</td>\n",
       "      <td>photo</td>\n",
       "      <td>NaN</td>\n",
       "      <td>24</td>\n",
       "      <td>2</td>\n",
       "      <td>1</td>\n",
       "      <td>1.0</td>\n",
       "      <td>0.0</td>\n",
       "      <td>0.0</td>\n",
       "      <td>0.0</td>\n",
       "      <td>0.0</td>\n",
       "      <td>These are the best! But bring back the pan sti...</td>\n",
       "    </tr>\n",
       "    <tr>\n",
       "      <th>2043</th>\n",
       "      <td>2017-01-16 20:00:00</td>\n",
       "      <td>LAST CHANCE! Our Double Ended Contouring and B...</td>\n",
       "      <td>photo</td>\n",
       "      <td>NaN</td>\n",
       "      <td>4</td>\n",
       "      <td>0</td>\n",
       "      <td>0</td>\n",
       "      <td>0.0</td>\n",
       "      <td>0.0</td>\n",
       "      <td>0.0</td>\n",
       "      <td>0.0</td>\n",
       "      <td>0.0</td>\n",
       "      <td>NaN</td>\n",
       "    </tr>\n",
       "  </tbody>\n",
       "</table>\n",
       "<p>2044 rows × 13 columns</p>\n",
       "</div>"
      ],
      "text/plain": [
       "             created_time                                            message  \\\n",
       "0     2012-06-20 15:12:38  Ummm, yum! What would be in your ULTIMATE naug...   \n",
       "1     2012-06-21 15:09:46    Click 'like' if you worry about that too! <3 <3   \n",
       "2     2012-06-22 10:41:36  Seems like some celebs can get away with any h...   \n",
       "3     2012-06-22 15:37:04  We absolutely adore our bling here at Australi...   \n",
       "4     2012-06-25 10:26:10                         You know you want to... :P   \n",
       "...                   ...                                                ...   \n",
       "2039  2017-01-08 17:00:00  Are you a porcelain princess who just can�t fi...   \n",
       "2040  2017-01-09 19:30:00  Blend Velourlips NY-Cee and Doo-Bai to achieve...   \n",
       "2041  2017-01-10 09:30:00  FREE brush alert! To help you start the year w...   \n",
       "2042  2017-01-15 16:30:00  Add some glow to your look with the High Life ...   \n",
       "2043  2017-01-16 20:00:00  LAST CHANCE! Our Double Ended Contouring and B...   \n",
       "\n",
       "       type                                              story  likes_count  \\\n",
       "0     photo  Australis Cosmetics with Evalyn McGregor-Koch ...          715   \n",
       "1     photo                                                NaN         1103   \n",
       "2     photo                                                NaN          161   \n",
       "3     photo                                                NaN           30   \n",
       "4     photo  Australis Cosmetics with Evalyn McGregor-Koch ...          117   \n",
       "...     ...                                                ...          ...   \n",
       "2039  photo                                                NaN          150   \n",
       "2040  photo                                                NaN           35   \n",
       "2041  photo                                                NaN           40   \n",
       "2042  photo                                                NaN           24   \n",
       "2043  photo                                                NaN            4   \n",
       "\n",
       "      comments_count  shares_count  love_count  haha_count  wow_count  \\\n",
       "0                 47            46         0.0         0.0        0.0   \n",
       "1                  8            80         0.0         0.0        0.0   \n",
       "2                 12             2         0.0         0.0        0.0   \n",
       "3                  0             0         0.0         0.0        0.0   \n",
       "4                  0             6         0.0         0.0        0.0   \n",
       "...              ...           ...         ...         ...        ...   \n",
       "2039              70             4        11.0         0.0        0.0   \n",
       "2040               1             0         0.0         0.0        0.0   \n",
       "2041               4             1         0.0         0.0        1.0   \n",
       "2042               2             1         1.0         0.0        0.0   \n",
       "2043               0             0         0.0         0.0        0.0   \n",
       "\n",
       "      sad_count  angry_count  \\\n",
       "0           0.0          0.0   \n",
       "1           0.0          0.0   \n",
       "2           0.0          0.0   \n",
       "3           0.0          0.0   \n",
       "4           0.0          0.0   \n",
       "...         ...          ...   \n",
       "2039        0.0          1.0   \n",
       "2040        0.0          0.0   \n",
       "2041        0.0          0.0   \n",
       "2042        0.0          0.0   \n",
       "2043        0.0          0.0   \n",
       "\n",
       "                                               comments  \n",
       "0     that looks awesome Icecream with crushed oreo....  \n",
       "1     :\\ true. i agree I just moved and I am particu...  \n",
       "2     blonde her eye colour is different Way better ...  \n",
       "3                                                   NaN  \n",
       "4                                                   NaN  \n",
       "...                                                 ...  \n",
       "2039  Yes but I also have such an intense red tone i...  \n",
       "2040  She looked gorgeous <ed><U+00A0><U+00BD><ed><U...  \n",
       "2041  I have this and it's honestly the best brush e...  \n",
       "2042  These are the best! But bring back the pan sti...  \n",
       "2043                                                NaN  \n",
       "\n",
       "[2044 rows x 13 columns]"
      ]
     },
     "execution_count": 2,
     "metadata": {},
     "output_type": "execute_result"
    }
   ],
   "source": [
    "# load facebook dataset: Australian cosmetics company page\n",
    "df = pd.read_csv(\"https://raw.githubusercontent.com/multidis/hult-social-media-analytics/main/data/brand_posts.csv\")\n",
    "df"
   ]
  },
  {
   "cell_type": "code",
   "execution_count": 3,
   "id": "be2827d4",
   "metadata": {},
   "outputs": [
    {
     "data": {
      "text/plain": [
       "2016    2016-12-01 16:00:00\n",
       "1896    2016-07-11 18:45:00\n",
       "1845    2016-05-09 17:50:00\n",
       "2037    2017-01-04 20:00:00\n",
       "2013    2016-11-28 16:29:01\n",
       "1852    2016-05-17 19:54:00\n",
       "1838    2016-04-29 18:10:00\n",
       "1898    2016-07-13 17:05:01\n",
       "1969    2016-10-14 20:30:00\n",
       "1972    2016-10-16 17:00:00\n",
       "Name: created_time, dtype: object"
      ]
     },
     "execution_count": 3,
     "metadata": {},
     "output_type": "execute_result"
    }
   ],
   "source": [
    "# example subset of entries: post creation timestamp\n",
    "df.sort_values(by='haha_count', ascending=False).head(10)['created_time']"
   ]
  },
  {
   "cell_type": "code",
   "execution_count": 4,
   "id": "4345570e",
   "metadata": {},
   "outputs": [
    {
     "data": {
      "text/plain": [
       "2016   2016-12-01 16:00:00\n",
       "1896   2016-07-11 18:45:00\n",
       "1845   2016-05-09 17:50:00\n",
       "2037   2017-01-04 20:00:00\n",
       "2013   2016-11-28 16:29:01\n",
       "1852   2016-05-17 19:54:00\n",
       "1838   2016-04-29 18:10:00\n",
       "1898   2016-07-13 17:05:01\n",
       "1969   2016-10-14 20:30:00\n",
       "1972   2016-10-16 17:00:00\n",
       "Name: created_time, dtype: datetime64[ns]"
      ]
     },
     "execution_count": 4,
     "metadata": {},
     "output_type": "execute_result"
    }
   ],
   "source": [
    "# it is comvenient to convert timestamps to datetime-format\n",
    "# https://pandas.pydata.org/pandas-docs/stable/reference/api/pandas.to_datetime.html\n",
    "tstamps = pd.to_datetime(df.sort_values(by='haha_count', ascending=False).head(10)['created_time'])\n",
    "tstamps"
   ]
  },
  {
   "cell_type": "code",
   "execution_count": 5,
   "id": "a9208cbc",
   "metadata": {},
   "outputs": [
    {
     "data": {
      "text/plain": [
       "2016    16:00:00\n",
       "1896    18:45:00\n",
       "1845    17:50:00\n",
       "2037    20:00:00\n",
       "2013    16:29:01\n",
       "1852    19:54:00\n",
       "1838    18:10:00\n",
       "1898    17:05:01\n",
       "1969    20:30:00\n",
       "1972    17:00:00\n",
       "Name: created_time, dtype: object"
      ]
     },
     "execution_count": 5,
     "metadata": {},
     "output_type": "execute_result"
    }
   ],
   "source": [
    "# extract only the time of day part\n",
    "tstamps.dt.time"
   ]
  },
  {
   "cell_type": "code",
   "execution_count": 6,
   "id": "d522b35e",
   "metadata": {},
   "outputs": [
    {
     "data": {
      "text/plain": [
       "2016    16\n",
       "1896    18\n",
       "1845    17\n",
       "2037    20\n",
       "2013    16\n",
       "1852    19\n",
       "1838    18\n",
       "1898    17\n",
       "1969    20\n",
       "1972    17\n",
       "Name: created_time, dtype: int64"
      ]
     },
     "execution_count": 6,
     "metadata": {},
     "output_type": "execute_result"
    }
   ],
   "source": [
    "# extract the hour of the day\n",
    "tstamps.dt.hour"
   ]
  },
  {
   "cell_type": "code",
   "execution_count": 7,
   "id": "339cad54",
   "metadata": {},
   "outputs": [
    {
     "data": {
      "text/plain": [
       "Text(0, 0.5, 'count')"
      ]
     },
     "execution_count": 7,
     "metadata": {},
     "output_type": "execute_result"
    },
    {
     "data": {
      "image/png": "[encoded data removed]",
      "text/plain": [
       "<Figure size 432x288 with 1 Axes>"
      ]
     },
     "metadata": {
      "needs_background": "light"
     },
     "output_type": "display_data"
    }
   ],
   "source": [
    "hist_plot = tstamps.dt.hour.hist(range=[0, 23])\n",
    "hist_plot.set_xlabel('hour')\n",
    "hist_plot.set_ylabel('count')"
   ]
  },
  {
   "cell_type": "code",
   "execution_count": 8,
   "id": "5bece62c",
   "metadata": {},
   "outputs": [
    {
     "data": {
      "text/plain": [
       "2016    3\n",
       "1896    0\n",
       "1845    0\n",
       "2037    2\n",
       "2013    0\n",
       "1852    1\n",
       "1838    4\n",
       "1898    2\n",
       "1969    4\n",
       "1972    6\n",
       "Name: created_time, dtype: int64"
      ]
     },
     "execution_count": 8,
     "metadata": {},
     "output_type": "execute_result"
    }
   ],
   "source": [
    "# extract day of the week: Monday = 0, Sunday=6\n",
    "# https://pandas.pydata.org/docs/reference/api/pandas.Timestamp.weekday.html\n",
    "tstamps.dt.weekday"
   ]
  },
  {
   "cell_type": "code",
   "execution_count": 9,
   "id": "91e7e0fb",
   "metadata": {},
   "outputs": [
    {
     "data": {
      "text/plain": [
       "Text(0, 0.5, 'count')"
      ]
     },
     "execution_count": 9,
     "metadata": {},
     "output_type": "execute_result"
    },
    {
     "data": {
      "image/png": "[encoded data removed]",
      "text/plain": [
       "<Figure size 432x288 with 1 Axes>"
      ]
     },
     "metadata": {
      "needs_background": "light"
     },
     "output_type": "display_data"
    }
   ],
   "source": [
    "hist_plot = tstamps.dt.weekday.hist(range=[0, 6])\n",
    "hist_plot.set_xlabel('Day of week (Monday through Sunday')\n",
    "hist_plot.set_ylabel('count')"
   ]
  }
 ],
 "metadata": {
  "kernelspec": {
   "display_name": "Python 3",
   "language": "python",
   "name": "python3"
  },
  "language_info": {
   "codemirror_mode": {
    "name": "ipython",
    "version": 3
   },
   "file_extension": ".py",
   "mimetype": "text/x-python",
   "name": "python",
   "nbconvert_exporter": "python",
   "pygments_lexer": "ipython3",
   "version": "3.7.10"
  }
 },
 "nbformat": 4,
 "nbformat_minor": 5
}
